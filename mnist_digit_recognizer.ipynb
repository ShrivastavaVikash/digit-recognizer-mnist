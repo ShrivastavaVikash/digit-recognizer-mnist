{
 "cells": [
  {
   "cell_type": "markdown",
   "id": "7b5f6877",
   "metadata": {},
   "source": [
    "# 🧠 Handwritten Digit Recognition using MNIST\n",
    "\n",
    "This notebook builds a simple neural network to recognize handwritten digits using the MNIST dataset."
   ]
  },
  {
   "cell_type": "code",
   "execution_count": null,
   "id": "c4c9285a",
   "metadata": {},
   "outputs": [],
   "source": [
    "# Step 1: Import Libraries\n",
    "import tensorflow as tf\n",
    "from tensorflow.keras.datasets import mnist\n",
    "from tensorflow.keras.models import Sequential\n",
    "from tensorflow.keras.layers import Dense, Flatten\n",
    "import matplotlib.pyplot as plt\n",
    "import numpy as np"
   ]
  },
  {
   "cell_type": "code",
   "execution_count": null,
   "id": "1297b764",
   "metadata": {},
   "outputs": [],
   "source": [
    "# Step 2: Load the MNIST dataset\n",
    "(x_train, y_train), (x_test, y_test) = mnist.load_data()\n",
    "\n",
    "# Normalize the data\n",
    "x_train = x_train / 255.0\n",
    "x_test = x_test / 255.0"
   ]
  },
  {
   "cell_type": "code",
   "execution_count": null,
   "id": "b651c967",
   "metadata": {},
   "outputs": [],
   "source": [
    "# Step 3: Visualize a sample image\n",
    "plt.imshow(x_train[0], cmap='gray')\n",
    "plt.title(f\"Label: {y_train[0]}\")\n",
    "plt.show()"
   ]
  },
  {
   "cell_type": "code",
   "execution_count": null,
   "id": "c57c42fe",
   "metadata": {},
   "outputs": [],
   "source": [
    "# Step 4: Build the neural network model\n",
    "model = Sequential([\n",
    "    Flatten(input_shape=(28, 28)),\n",
    "    Dense(128, activation='relu'),\n",
    "    Dense(10, activation='softmax')\n",
    "])"
   ]
  },
  {
   "cell_type": "code",
   "execution_count": null,
   "id": "39270a3e",
   "metadata": {},
   "outputs": [],
   "source": [
    "# Step 5: Compile the model\n",
    "model.compile(optimizer='adam', loss='sparse_categorical_crossentropy', metrics=['accuracy'])"
   ]
  },
  {
   "cell_type": "code",
   "execution_count": null,
   "id": "9881fa78",
   "metadata": {},
   "outputs": [],
   "source": [
    "# Step 6: Train the model\n",
    "model.fit(x_train, y_train, epochs=5)"
   ]
  },
  {
   "cell_type": "code",
   "execution_count": null,
   "id": "a8886a2b",
   "metadata": {},
   "outputs": [],
   "source": [
    "# Step 7: Evaluate the model\n",
    "loss, accuracy = model.evaluate(x_test, y_test)\n",
    "print(f\"Test accuracy: {accuracy:.2f}\")"
   ]
  },
  {
   "cell_type": "code",
   "execution_count": null,
   "id": "be3ee986",
   "metadata": {},
   "outputs": [],
   "source": [
    "# Step 8: Predict a sample image\n",
    "sample_index = 0\n",
    "sample_image = x_test[sample_index]\n",
    "prediction = model.predict(np.array([sample_image]))\n",
    "predicted_label = np.argmax(prediction)\n",
    "\n",
    "plt.imshow(sample_image, cmap='gray')\n",
    "plt.title(f\"Predicted Digit: {predicted_label}\")\n",
    "plt.show()"
   ]
  }
 ],
 "metadata": {},
 "nbformat": 4,
 "nbformat_minor": 5
}
